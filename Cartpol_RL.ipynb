{
  "cells": [
    {
      "cell_type": "markdown",
      "metadata": {
        "id": "view-in-github",
        "colab_type": "text"
      },
      "source": [
        "<a href=\"https://colab.research.google.com/github/faheemkhaskheli9/Reinforcement-Learning/blob/main/Cartpol_RL.ipynb\" target=\"_parent\"><img src=\"https://colab.research.google.com/assets/colab-badge.svg\" alt=\"Open In Colab\"/></a>"
      ]
    },
    {
      "cell_type": "code",
      "execution_count": null,
      "metadata": {
        "id": "uwnT0G0zU-NM"
      },
      "outputs": [],
      "source": [
        "import random\n",
        "import gym\n",
        "import numpy as np\n",
        "from collections import deque\n",
        "from keras.models import Sequential\n",
        "from keras.layers import Dense\n",
        "from keras.optimizers import Adam"
      ]
    },
    {
      "cell_type": "code",
      "execution_count": null,
      "metadata": {
        "id": "hJ-Am3XASW5O"
      },
      "outputs": [],
      "source": []
    },
    {
      "cell_type": "code",
      "execution_count": null,
      "metadata": {
        "id": "VYIg4mHgR7d1"
      },
      "outputs": [],
      "source": [
        "ENV_NAME = \"CartPole-v1\"\n",
        "\n",
        "GAMMA = 0.95\n",
        "LEARNING_RATE = 0.001\n",
        "\n",
        "MEMORY_SIZE = 1000000\n",
        "BATCH_SIZE = 20\n",
        "\n",
        "EXPLORATION_MAX = 1.0\n",
        "EXPLORATION_MIN = 0.01\n",
        "EXPLORATION_DECAY = 0.995"
      ]
    },
    {
      "cell_type": "code",
      "execution_count": null,
      "metadata": {
        "id": "cXY_wkdcSFNr"
      },
      "outputs": [],
      "source": [
        "class DQNSolver:\n",
        "\n",
        "    def __init__(self, observation_space, action_space):\n",
        "        self.exploration_rate = EXPLORATION_MAX\n",
        "\n",
        "        self.action_space = action_space\n",
        "        self.memory = deque(maxlen=MEMORY_SIZE)\n",
        "\n",
        "        self.model = Sequential()\n",
        "        self.model.add(Dense(24, input_shape=(observation_space,), activation=\"relu\"))\n",
        "        self.model.add(Dense(24, activation=\"relu\"))\n",
        "        self.model.add(Dense(self.action_space, activation=\"linear\"))\n",
        "        self.model.compile(loss=\"mse\", optimizer=Adam(lr=LEARNING_RATE))\n",
        "\n",
        "    def remember(self, state, action, reward, next_state, done):\n",
        "        self.memory.append((state, action, reward, next_state, done))\n",
        "\n",
        "    def act(self, state):\n",
        "        if np.random.rand() < self.exploration_rate:\n",
        "            return random.randrange(self.action_space)\n",
        "        q_values = self.model.predict(state, verbose=0)\n",
        "        return np.argmax(q_values[0])\n",
        "\n",
        "    def experience_replay(self):\n",
        "        if len(self.memory) < BATCH_SIZE:\n",
        "            return\n",
        "        batch = random.sample(self.memory, BATCH_SIZE)\n",
        "        for state, action, reward, state_next, terminal in batch:\n",
        "            q_update = reward\n",
        "            if not terminal:\n",
        "                q_update = (reward + GAMMA * np.amax(self.model.predict(state_next, verbose=0)[0]))\n",
        "            q_values = self.model.predict(state, verbose=0)\n",
        "            q_values[0][action] = q_update\n",
        "            self.model.fit(state, q_values, verbose=0)\n",
        "        self.exploration_rate *= EXPLORATION_DECAY\n",
        "        self.exploration_rate = max(EXPLORATION_MIN, self.exploration_rate)"
      ]
    },
    {
      "cell_type": "code",
      "execution_count": null,
      "metadata": {
        "id": "fJNpS2p5VBl2"
      },
      "outputs": [],
      "source": [
        "def cartpole():\n",
        "    env = gym.make(ENV_NAME)\n",
        "    observation_space = env.observation_space.shape[0]\n",
        "    action_space = env.action_space.n\n",
        "    dqn_solver = DQNSolver(observation_space, action_space)\n",
        "    try:\n",
        "      dqn_solver.model.load_weights(\"dqn_model.hdf5\")\n",
        "    except:\n",
        "      pass\n",
        "    run = 0\n",
        "    while True:\n",
        "        run += 1\n",
        "        state = env.reset()\n",
        "        state = np.reshape(state, [1, observation_space])\n",
        "        step = 0\n",
        "        while True:\n",
        "            step += 1\n",
        "            #env.render()\n",
        "            action = dqn_solver.act(state)\n",
        "            state_next, reward, terminal, info = env.step(action)\n",
        "            reward = reward if not terminal else -reward\n",
        "            state_next = np.reshape(state_next, [1, observation_space])\n",
        "            dqn_solver.remember(state, action, reward, state_next, terminal)\n",
        "            state = state_next\n",
        "            if terminal:\n",
        "                print(\"Run: \" + str(run) + \", exploration: \" + str(dqn_solver.exploration_rate) + \", score: \" + str(step))\n",
        "                break\n",
        "            dqn_solver.experience_replay()\n",
        "        dqn_solver.model.save_weights(\"dqn_model.hdf5\")"
      ]
    },
    {
      "cell_type": "code",
      "execution_count": null,
      "metadata": {
        "colab": {
          "background_save": true,
          "base_uri": "https://localhost:8080/"
        },
        "id": "d5bQAl62SIHb",
        "outputId": "d8af654a-0d73-42a5-f37b-3abab68b7dbf"
      },
      "outputs": [
        {
          "name": "stderr",
          "output_type": "stream",
          "text": [
            "/usr/local/lib/python3.7/dist-packages/gym/core.py:318: DeprecationWarning: \u001b[33mWARN: Initializing wrapper in old step API which returns one bool instead of two. It is recommended to set `new_step_api=True` to use new step API. This will be the default behaviour in future.\u001b[0m\n",
            "  \"Initializing wrapper in old step API which returns one bool instead of two. It is recommended to set `new_step_api=True` to use new step API. This will be the default behaviour in future.\"\n",
            "/usr/local/lib/python3.7/dist-packages/gym/wrappers/step_api_compatibility.py:40: DeprecationWarning: \u001b[33mWARN: Initializing environment in old step API which returns one bool instead of two. It is recommended to set `new_step_api=True` to use new step API. This will be the default behaviour in future.\u001b[0m\n",
            "  \"Initializing environment in old step API which returns one bool instead of two. It is recommended to set `new_step_api=True` to use new step API. This will be the default behaviour in future.\"\n",
            "/usr/local/lib/python3.7/dist-packages/keras/optimizers/optimizer_v2/adam.py:110: UserWarning: The `lr` argument is deprecated, use `learning_rate` instead.\n",
            "  super(Adam, self).__init__(name, **kwargs)\n"
          ]
        },
        {
          "name": "stdout",
          "output_type": "stream",
          "text": [
            "Run: 1, exploration: 1.0, score: 10\n",
            "Run: 2, exploration: 0.960693043575437, score: 18\n",
            "Run: 3, exploration: 0.8475428503023453, score: 26\n",
            "Run: 4, exploration: 0.7219385759785162, score: 33\n",
            "Run: 5, exploration: 0.6088145090359074, score: 35\n",
            "Run: 6, exploration: 0.5082950737585841, score: 37\n",
            "Run: 7, exploration: 0.46912134373457726, score: 17\n",
            "Run: 8, exploration: 0.4439551321314536, score: 12\n",
            "Run: 9, exploration: 0.4159480862733536, score: 14\n",
            "Run: 10, exploration: 0.3995984329713264, score: 9\n",
            "Run: 11, exploration: 0.38389143477919885, score: 9\n",
            "Run: 12, exploration: 0.3669578217261671, score: 10\n",
            "Run: 13, exploration: 0.3507711574848344, score: 10\n",
            "Run: 14, exploration: 0.3352984938281715, score: 10\n",
            "Run: 15, exploration: 0.3079101286968243, score: 18\n",
            "Run: 16, exploration: 0.25966219297210513, score: 35\n",
            "Run: 17, exploration: 0.20722748400265262, score: 46\n",
            "Run: 18, exploration: 0.16048131420416054, score: 52\n",
            "Run: 19, exploration: 0.09153970651645797, score: 113\n",
            "Run: 20, exploration: 0.06412808167716157, score: 72\n",
            "Run: 21, exploration: 0.034443736736092176, score: 125\n",
            "Run: 22, exploration: 0.022720922640519125, score: 84\n",
            "Run: 23, exploration: 0.017683979399301233, score: 51\n",
            "Run: 24, exploration: 0.014912990653247866, score: 35\n",
            "Run: 25, exploration: 0.010605575411209664, score: 69\n",
            "Run: 26, exploration: 0.01, score: 66\n",
            "Run: 27, exploration: 0.01, score: 91\n",
            "Run: 28, exploration: 0.01, score: 73\n",
            "Run: 29, exploration: 0.01, score: 89\n",
            "Run: 30, exploration: 0.01, score: 106\n",
            "Run: 31, exploration: 0.01, score: 66\n",
            "Run: 32, exploration: 0.01, score: 128\n",
            "Run: 33, exploration: 0.01, score: 239\n",
            "Run: 34, exploration: 0.01, score: 240\n",
            "Run: 35, exploration: 0.01, score: 459\n",
            "Run: 36, exploration: 0.01, score: 453\n",
            "Run: 37, exploration: 0.01, score: 500\n",
            "Run: 38, exploration: 0.01, score: 455\n",
            "Run: 39, exploration: 0.01, score: 284\n"
          ]
        }
      ],
      "source": [
        "cartpole()"
      ]
    },
    {
      "cell_type": "code",
      "execution_count": null,
      "metadata": {
        "id": "XyqIG3LQSUTU"
      },
      "outputs": [],
      "source": []
    }
  ],
  "metadata": {
    "colab": {
      "provenance": [],
      "authorship_tag": "ABX9TyPwsdBPNppZzoLd1kj0nTGF",
      "include_colab_link": true
    },
    "kernelspec": {
      "display_name": "Python 3",
      "name": "python3"
    },
    "language_info": {
      "name": "python"
    }
  },
  "nbformat": 4,
  "nbformat_minor": 0
}